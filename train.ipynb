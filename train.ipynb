{
 "cells": [
  {
   "cell_type": "code",
   "execution_count": 7,
   "metadata": {},
   "outputs": [],
   "source": [
    "import pickle\n",
    "import csv\n",
    "import numpy as np\n",
    "import os"
   ]
  },
  {
   "cell_type": "code",
   "execution_count": 8,
   "metadata": {},
   "outputs": [],
   "source": [
    "file_exp_value = \"data/pdbbind_refined_set.csv\"\n",
    "data_dir = \"data\""
   ]
  },
  {
   "cell_type": "code",
   "execution_count": 9,
   "metadata": {},
   "outputs": [],
   "source": [
    "# Read the data file and get all the pdb ids\n",
    "def read_score():\n",
    "    pdb_ids = []\n",
    "    scores = {}\n",
    "    with open(file_exp_value, 'r') as csvfile:\n",
    "        reader = csv.reader(csvfile)\n",
    "        next(reader, None) # Skip the header\n",
    "        for row in reader:\n",
    "            pdb_ids.append(row[1])\n",
    "            scores[row[1]]= float(row[5])\n",
    "\n",
    "    return pdb_ids, scores"
   ]
  },
  {
   "cell_type": "code",
   "execution_count": 13,
   "metadata": {},
   "outputs": [],
   "source": [
    "# def read_data():\n",
    "#     pdb_ids_file = os.path.join(data_dir, \"pdb_ids.pickle\")\n",
    "#     features_file = os.path.join(data_dir, \"features_side_2.pickle\")\n",
    "    \n",
    "#     with open(pdb_ids_file, \"rb\") as f:\n",
    "#         pdb_ids = pickle.load(f)\n",
    "#     with open(features_file, \"rb\") as f:\n",
    "#         features = pickle.load(f)\n",
    "        \n",
    "#     return pdb_ids, features"
   ]
  },
  {
   "cell_type": "code",
   "execution_count": 102,
   "metadata": {},
   "outputs": [],
   "source": [
    "def _reshape(x, new_shape):\n",
    "    dim_diff = np.subtract(new_shape, x.shape)\n",
    "    pad_dim = np.round(dim_diff / 2).astype(int)\n",
    "    x = np.pad(x, [(pad_dim[0], dim_diff[0]-pad_dim[0]),\n",
    "                   (pad_dim[1], dim_diff[1]-pad_dim[1]),\n",
    "                   (pad_dim[2], dim_diff[2]-pad_dim[2]),\n",
    "                   (0, 0)],\n",
    "               'constant')\n",
    "    \n",
    "    return x"
   ]
  },
  {
   "cell_type": "code",
   "execution_count": 103,
   "metadata": {},
   "outputs": [],
   "source": [
    "def read_data():\n",
    "    features_file = os.path.join(data_dir, \"features_side_2.pickle\")\n",
    "    \n",
    "    with open(features_file, \"rb\") as f:\n",
    "        features = pickle.load(f)\n",
    "    \n",
    "    # Reshape features\n",
    "    new_shape = np.array([24, 24, 24, 8])\n",
    "    features_array = np.array([_reshape(f, new_shape) for f in features.values()], dtype=np.float32)\n",
    "    return list(features.keys()), features_array\n",
    "    #return list(features.keys()), np.array(list(features.values()), dtype=np.float32)"
   ]
  },
  {
   "cell_type": "code",
   "execution_count": 104,
   "metadata": {},
   "outputs": [],
   "source": [
    "exp_ids, exp_scores = read_score()\n",
    "pdb_ids, features = read_data()"
   ]
  },
  {
   "cell_type": "code",
   "execution_count": 107,
   "metadata": {},
   "outputs": [
    {
     "name": "stdout",
     "output_type": "stream",
     "text": [
      "4154 4154 3882 (3882, 24, 24, 24, 8)\n"
     ]
    }
   ],
   "source": [
    "print(len(exp_ids), len(exp_scores), len(pdb_ids), features.shape)"
   ]
  },
  {
   "cell_type": "code",
   "execution_count": 109,
   "metadata": {},
   "outputs": [],
   "source": [
    "# Valid features (has exp values)\n",
    "found_mask = [i in exp_ids for i in pdb_ids]\n",
    "features = features[found_mask]\n",
    "valid_pdb_ids = [i for i in pdb_ids if i in exp_ids]\n",
    "exp_values = np.array([exp_scores[k] for k in valid_pdb_ids], dtype=np.float32)"
   ]
  },
  {
   "cell_type": "code",
   "execution_count": 110,
   "metadata": {},
   "outputs": [
    {
     "name": "stdout",
     "output_type": "stream",
     "text": [
      "(3650, 24, 24, 24, 8) 3650\n"
     ]
    }
   ],
   "source": [
    "print(features.shape, len(exp_values))"
   ]
  },
  {
   "cell_type": "code",
   "execution_count": 111,
   "metadata": {},
   "outputs": [
    {
     "data": {
      "text/plain": [
       "array([0.01189438, 0.00233098, 0.00667078, 0.01281906, 0.00785731,\n",
       "       0.        , 0.01961721, 0.        ], dtype=float32)"
      ]
     },
     "execution_count": 111,
     "metadata": {},
     "output_type": "execute_result"
    }
   ],
   "source": [
    "np.var(features.reshape((-1, 8)), axis=0)"
   ]
  },
  {
   "cell_type": "code",
   "execution_count": 112,
   "metadata": {},
   "outputs": [],
   "source": [
    "from sklearn.model_selection import train_test_split"
   ]
  },
  {
   "cell_type": "code",
   "execution_count": 113,
   "metadata": {},
   "outputs": [
    {
     "name": "stdout",
     "output_type": "stream",
     "text": [
      "(2920, 24, 24, 24, 8) (365, 24, 24, 24, 8) (365, 24, 24, 24, 8)\n"
     ]
    }
   ],
   "source": [
    "train_x, test_x, train_y, test_y = train_test_split(features, exp_values, test_size=0.2, random_state=1)\n",
    "test_x, valid_x, test_y, valid_y = train_test_split(test_x, test_y, test_size=0.5, random_state=1)\n",
    "print(train_x.shape, test_x.shape, valid_x.shape)"
   ]
  },
  {
   "cell_type": "code",
   "execution_count": 114,
   "metadata": {},
   "outputs": [
    {
     "name": "stdout",
     "output_type": "stream",
     "text": [
      "[0.01184748 0.00233082 0.00666124 0.01275643 0.00787269 0.\n",
      " 0.01968545 0.        ]\n"
     ]
    }
   ],
   "source": [
    "print(np.var(train_x.reshape((-1, 8)), axis=0))"
   ]
  },
  {
   "cell_type": "code",
   "execution_count": 116,
   "metadata": {},
   "outputs": [
    {
     "name": "stdout",
     "output_type": "stream",
     "text": [
      "[1. 1. 1. 1. 1. 0. 1. 0.] [0. 0. 0. 0. 0. 0. 0. 0.]\n"
     ]
    }
   ],
   "source": [
    "print(np.amax(train_x.reshape((-1, 8)), axis=0), np.amin(train_x.reshape((-1, 8)), axis=0))"
   ]
  },
  {
   "cell_type": "code",
   "execution_count": 117,
   "metadata": {},
   "outputs": [
    {
     "name": "stderr",
     "output_type": "stream",
     "text": [
      "/home/mhassan/anaconda3/envs/dl/lib/python3.6/site-packages/h5py/__init__.py:36: FutureWarning: Conversion of the second argument of issubdtype from `float` to `np.floating` is deprecated. In future, it will be treated as `np.float64 == np.dtype(float).type`.\n",
      "  from ._conv import register_converters as _register_converters\n",
      "Using TensorFlow backend.\n"
     ]
    }
   ],
   "source": [
    "from keras.models import Sequential, Model\n",
    "from keras.layers import Dropout, Flatten, Dense, Input, Add, merge, concatenate\n",
    "from keras.layers.convolutional import Conv3D\n",
    "from keras.layers.pooling import MaxPooling3D, GlobalAveragePooling3D, AveragePooling3D\n",
    "from keras import metrics\n",
    "from keras import optimizers\n",
    "from keras.utils import plot_model\n",
    "from keras import backend as K\n",
    "from keras.utils.training_utils import multi_gpu_model\n",
    "from keras.utils.data_utils import Sequence\n",
    "from keras.callbacks import ModelCheckpoint\n",
    "from keras.initializers import he_uniform\n",
    "from tqdm import *\n",
    "import glob\n",
    "import os\n",
    "import random\n",
    "from sklearn.metrics import r2_score\n",
    "import matplotlib.pyplot as plt"
   ]
  },
  {
   "cell_type": "code",
   "execution_count": 118,
   "metadata": {},
   "outputs": [],
   "source": [
    "def get_model1(summary=False):\n",
    "    \"\"\" Return the Keras model of the network\n",
    "    \"\"\"\n",
    "    model = Sequential()\n",
    "    \n",
    "    # 1st layer group\n",
    "    model.add(Conv3D(filters=32,\n",
    "                     kernel_size=(3, 3, 3),\n",
    "                     strides = (1, 1, 1),\n",
    "                     input_shape=(24, 24, 24, 8),\n",
    "                     padding='same',\n",
    "                     activation='relu',\n",
    "                     kernel_initializer=he_uniform(seed=9876),\n",
    "                     bias_initializer='zeros'))\n",
    "    \n",
    "    model.add(Conv3D(filters=32,\n",
    "                     kernel_size=(3, 3, 3),\n",
    "                     strides = (1, 1, 1),\n",
    "                     activation='relu',\n",
    "                     kernel_initializer=he_uniform(seed=9876),\n",
    "                     padding='same'))\n",
    "    \n",
    "    model.add(MaxPooling3D(pool_size=(2, 2, 2),\n",
    "                           padding='valid'))\n",
    "    \n",
    "    # 2nd layer group\n",
    "    model.add(Conv3D(filters=64,\n",
    "                     kernel_size=(3, 3, 3),\n",
    "                     strides = (1, 1, 1),\n",
    "                     activation='relu',\n",
    "                     kernel_initializer=he_uniform(seed=9876),\n",
    "                     padding='same'))\n",
    "    \n",
    "    model.add(Conv3D(filters=64,\n",
    "                     kernel_size=(3, 3, 3),\n",
    "                     strides = (1, 1, 1),\n",
    "                     activation='relu',\n",
    "                     kernel_initializer=he_uniform(seed=9876),\n",
    "                     padding='same'))\n",
    "    \n",
    "    model.add(MaxPooling3D(pool_size=(2, 2, 2),\n",
    "                           padding='valid'))\n",
    "    \n",
    "    # 3rd layer group\n",
    "    model.add(Conv3D(filters=128,\n",
    "                     kernel_size=(3, 3, 3),\n",
    "                     strides = (1, 1, 1),\n",
    "                     activation='relu',\n",
    "                     kernel_initializer=he_uniform(seed=9876),\n",
    "                     padding='same'))\n",
    "    \n",
    "    model.add(Conv3D(filters=128,\n",
    "                     kernel_size=(3, 3, 3),\n",
    "                     strides = (1, 1, 1),\n",
    "                     activation='relu',\n",
    "                     kernel_initializer=he_uniform(seed=9876),\n",
    "                     padding='same'))\n",
    "    \n",
    "    model.add(MaxPooling3D(pool_size=(2, 2, 2),\n",
    "                           padding='valid'))\n",
    "    \n",
    "    # 4th layer group\n",
    "#     model.add(Conv3D(filters=128,\n",
    "#                      kernel_size=(3, 3, 3),\n",
    "#                      activation='relu',\n",
    "#                      padding='valid'))\n",
    "    \n",
    "#     model.add(MaxPooling3D(pool_size=(2, 2, 2),\n",
    "#                            #strides=(1, 1, 1),\n",
    "#                            padding='valid'))\n",
    "    \n",
    "    #model.add(AveragePooling3D(pool_size=(2, 2, 2), \n",
    "    #                           padding='valid'))\n",
    "                           \n",
    "    model.add(Flatten())\n",
    "#     model.add(Dense(512, activation='relu'))\n",
    "#     model.add(Dropout(.5))\n",
    "    model.add(Dense(256, activation='relu'))\n",
    "#     model.add(Dropout(.5))\n",
    "    model.add(Dense(1, activation='linear'))\n",
    "    if summary:\n",
    "        print(model.summary())\n",
    "    return model"
   ]
  },
  {
   "cell_type": "code",
   "execution_count": 119,
   "metadata": {},
   "outputs": [],
   "source": [
    "nb_gpus = 8\n",
    "nb_batch = nb_gpus*32\n",
    "nb_epochs = 100\n",
    "l_rate = 0.00001"
   ]
  },
  {
   "cell_type": "code",
   "execution_count": 120,
   "metadata": {},
   "outputs": [],
   "source": [
    "model = get_model1()\n",
    "model = multi_gpu_model(model, gpus=nb_gpus)\n",
    "model.compile(optimizer=optimizers.rmsprop(lr=l_rate),\n",
    "              loss='mean_squared_error',\n",
    "              metrics=[metrics.mse])"
   ]
  },
  {
   "cell_type": "code",
   "execution_count": 121,
   "metadata": {},
   "outputs": [
    {
     "name": "stdout",
     "output_type": "stream",
     "text": [
      "Train on 2920 samples, validate on 365 samples\n",
      "Epoch 1/100\n",
      "2920/2920 [==============================] - 16s 6ms/step - loss: 19.6294 - mean_squared_error: 19.6294 - val_loss: 5.8042 - val_mean_squared_error: 5.8042\n",
      "Epoch 2/100\n",
      "2920/2920 [==============================] - 3s 1ms/step - loss: 3.9526 - mean_squared_error: 3.9526 - val_loss: 3.3876 - val_mean_squared_error: 3.3876\n",
      "Epoch 3/100\n",
      "2920/2920 [==============================] - 3s 1ms/step - loss: 3.2648 - mean_squared_error: 3.2648 - val_loss: 3.3707 - val_mean_squared_error: 3.3707\n",
      "Epoch 4/100\n",
      "2920/2920 [==============================] - 3s 1ms/step - loss: 3.2272 - mean_squared_error: 3.2272 - val_loss: 3.3264 - val_mean_squared_error: 3.3264\n",
      "Epoch 5/100\n",
      "2920/2920 [==============================] - 3s 1ms/step - loss: 3.1844 - mean_squared_error: 3.1844 - val_loss: 3.5142 - val_mean_squared_error: 3.5142\n",
      "Epoch 6/100\n",
      "2920/2920 [==============================] - 3s 1ms/step - loss: 3.1565 - mean_squared_error: 3.1565 - val_loss: 3.3611 - val_mean_squared_error: 3.3611\n",
      "Epoch 7/100\n",
      "2920/2920 [==============================] - 3s 1ms/step - loss: 3.1210 - mean_squared_error: 3.1210 - val_loss: 3.2774 - val_mean_squared_error: 3.2774\n",
      "Epoch 8/100\n",
      "2920/2920 [==============================] - 3s 1ms/step - loss: 3.0902 - mean_squared_error: 3.0902 - val_loss: 3.2647 - val_mean_squared_error: 3.2647\n",
      "Epoch 9/100\n",
      "2920/2920 [==============================] - 3s 1ms/step - loss: 3.0572 - mean_squared_error: 3.0572 - val_loss: 3.2094 - val_mean_squared_error: 3.2094\n",
      "Epoch 10/100\n",
      "2920/2920 [==============================] - 3s 1ms/step - loss: 3.0007 - mean_squared_error: 3.0007 - val_loss: 3.2399 - val_mean_squared_error: 3.2399\n",
      "Epoch 11/100\n",
      "2920/2920 [==============================] - 3s 1ms/step - loss: 3.0281 - mean_squared_error: 3.0281 - val_loss: 3.2754 - val_mean_squared_error: 3.2754\n",
      "Epoch 12/100\n",
      "2920/2920 [==============================] - 3s 1ms/step - loss: 2.9947 - mean_squared_error: 2.9947 - val_loss: 3.1669 - val_mean_squared_error: 3.1669\n",
      "Epoch 13/100\n",
      "2920/2920 [==============================] - 3s 1ms/step - loss: 2.9521 - mean_squared_error: 2.9521 - val_loss: 3.1775 - val_mean_squared_error: 3.1775\n",
      "Epoch 14/100\n",
      "2920/2920 [==============================] - 3s 1ms/step - loss: 2.9402 - mean_squared_error: 2.9402 - val_loss: 3.2545 - val_mean_squared_error: 3.2545\n",
      "Epoch 15/100\n",
      "2920/2920 [==============================] - 3s 1ms/step - loss: 2.9283 - mean_squared_error: 2.9283 - val_loss: 3.1688 - val_mean_squared_error: 3.1688\n",
      "Epoch 16/100\n",
      "2920/2920 [==============================] - 3s 1ms/step - loss: 2.8947 - mean_squared_error: 2.8947 - val_loss: 3.1126 - val_mean_squared_error: 3.1126\n",
      "Epoch 17/100\n",
      "2920/2920 [==============================] - 3s 1ms/step - loss: 2.8840 - mean_squared_error: 2.8840 - val_loss: 3.4165 - val_mean_squared_error: 3.4165\n",
      "Epoch 18/100\n",
      "2920/2920 [==============================] - 3s 1ms/step - loss: 2.9180 - mean_squared_error: 2.9180 - val_loss: 3.0943 - val_mean_squared_error: 3.0943\n",
      "Epoch 19/100\n",
      "2920/2920 [==============================] - 3s 1ms/step - loss: 2.8657 - mean_squared_error: 2.8657 - val_loss: 3.0893 - val_mean_squared_error: 3.0893\n",
      "Epoch 20/100\n",
      "2920/2920 [==============================] - 3s 1ms/step - loss: 2.8369 - mean_squared_error: 2.8369 - val_loss: 3.1929 - val_mean_squared_error: 3.1929\n",
      "Epoch 21/100\n",
      "2920/2920 [==============================] - 3s 1ms/step - loss: 2.8457 - mean_squared_error: 2.8457 - val_loss: 3.1246 - val_mean_squared_error: 3.1246\n",
      "Epoch 22/100\n",
      "2920/2920 [==============================] - 3s 1ms/step - loss: 2.7799 - mean_squared_error: 2.7799 - val_loss: 3.0873 - val_mean_squared_error: 3.0873\n",
      "Epoch 23/100\n",
      "2920/2920 [==============================] - 3s 1ms/step - loss: 2.8381 - mean_squared_error: 2.8381 - val_loss: 3.0680 - val_mean_squared_error: 3.0680\n",
      "Epoch 24/100\n",
      "2920/2920 [==============================] - 3s 938us/step - loss: 2.7732 - mean_squared_error: 2.7732 - val_loss: 3.3694 - val_mean_squared_error: 3.3694\n",
      "Epoch 25/100\n",
      "2920/2920 [==============================] - 3s 953us/step - loss: 2.8296 - mean_squared_error: 2.8296 - val_loss: 3.0584 - val_mean_squared_error: 3.0584\n",
      "Epoch 26/100\n",
      "2920/2920 [==============================] - 3s 983us/step - loss: 2.7459 - mean_squared_error: 2.7459 - val_loss: 3.2832 - val_mean_squared_error: 3.2832\n",
      "Epoch 27/100\n",
      "2920/2920 [==============================] - 3s 937us/step - loss: 2.7748 - mean_squared_error: 2.7748 - val_loss: 3.0749 - val_mean_squared_error: 3.0749\n",
      "Epoch 28/100\n",
      "2920/2920 [==============================] - 3s 943us/step - loss: 2.7199 - mean_squared_error: 2.7199 - val_loss: 3.0566 - val_mean_squared_error: 3.0566\n",
      "Epoch 29/100\n",
      "2920/2920 [==============================] - 3s 1ms/step - loss: 2.7613 - mean_squared_error: 2.7613 - val_loss: 3.0157 - val_mean_squared_error: 3.0157\n",
      "Epoch 30/100\n",
      "2920/2920 [==============================] - 3s 964us/step - loss: 2.7872 - mean_squared_error: 2.7872 - val_loss: 3.1415 - val_mean_squared_error: 3.1415\n",
      "Epoch 31/100\n",
      "2920/2920 [==============================] - 3s 992us/step - loss: 2.6876 - mean_squared_error: 2.6876 - val_loss: 3.1394 - val_mean_squared_error: 3.1394\n",
      "Epoch 32/100\n",
      "2920/2920 [==============================] - 3s 964us/step - loss: 2.6498 - mean_squared_error: 2.6498 - val_loss: 3.4558 - val_mean_squared_error: 3.4558\n",
      "Epoch 33/100\n",
      "2920/2920 [==============================] - 3s 968us/step - loss: 2.7007 - mean_squared_error: 2.7007 - val_loss: 3.0002 - val_mean_squared_error: 3.0002\n",
      "Epoch 34/100\n",
      "2920/2920 [==============================] - 3s 961us/step - loss: 2.6945 - mean_squared_error: 2.6945 - val_loss: 3.1028 - val_mean_squared_error: 3.1028\n",
      "Epoch 35/100\n",
      "2920/2920 [==============================] - 3s 1ms/step - loss: 2.6786 - mean_squared_error: 2.6786 - val_loss: 3.0027 - val_mean_squared_error: 3.0027\n",
      "Epoch 36/100\n",
      "2920/2920 [==============================] - 3s 957us/step - loss: 2.6503 - mean_squared_error: 2.6503 - val_loss: 3.0671 - val_mean_squared_error: 3.0671\n",
      "Epoch 37/100\n",
      "2920/2920 [==============================] - 3s 1ms/step - loss: 2.6027 - mean_squared_error: 2.6027 - val_loss: 3.0904 - val_mean_squared_error: 3.0904\n",
      "Epoch 38/100\n",
      "2920/2920 [==============================] - 3s 972us/step - loss: 2.6506 - mean_squared_error: 2.6506 - val_loss: 3.1014 - val_mean_squared_error: 3.1014\n",
      "Epoch 39/100\n",
      "2920/2920 [==============================] - 3s 1ms/step - loss: 2.6717 - mean_squared_error: 2.6717 - val_loss: 3.0372 - val_mean_squared_error: 3.0372\n",
      "Epoch 40/100\n",
      "2920/2920 [==============================] - 3s 954us/step - loss: 2.5967 - mean_squared_error: 2.5967 - val_loss: 2.9657 - val_mean_squared_error: 2.9657\n",
      "Epoch 41/100\n",
      "2920/2920 [==============================] - 3s 963us/step - loss: 2.5651 - mean_squared_error: 2.5651 - val_loss: 3.4346 - val_mean_squared_error: 3.4346\n",
      "Epoch 42/100\n",
      "2920/2920 [==============================] - 3s 1ms/step - loss: 2.6111 - mean_squared_error: 2.6111 - val_loss: 2.9575 - val_mean_squared_error: 2.9575\n",
      "Epoch 43/100\n",
      "2920/2920 [==============================] - 3s 952us/step - loss: 2.5535 - mean_squared_error: 2.5535 - val_loss: 3.1134 - val_mean_squared_error: 3.1134\n",
      "Epoch 44/100\n",
      "2920/2920 [==============================] - 3s 1ms/step - loss: 2.5878 - mean_squared_error: 2.5878 - val_loss: 3.4117 - val_mean_squared_error: 3.4117\n",
      "Epoch 45/100\n",
      "2920/2920 [==============================] - 3s 940us/step - loss: 2.6097 - mean_squared_error: 2.6097 - val_loss: 3.1626 - val_mean_squared_error: 3.1626\n",
      "Epoch 46/100\n",
      "2920/2920 [==============================] - 3s 1ms/step - loss: 2.5060 - mean_squared_error: 2.5060 - val_loss: 3.2954 - val_mean_squared_error: 3.2954\n",
      "Epoch 47/100\n",
      "2920/2920 [==============================] - 3s 968us/step - loss: 2.5767 - mean_squared_error: 2.5767 - val_loss: 2.9861 - val_mean_squared_error: 2.9861\n",
      "Epoch 48/100\n",
      "2920/2920 [==============================] - 3s 1ms/step - loss: 2.5174 - mean_squared_error: 2.5174 - val_loss: 2.9429 - val_mean_squared_error: 2.9429\n",
      "Epoch 49/100\n",
      "2920/2920 [==============================] - 3s 1ms/step - loss: 2.5340 - mean_squared_error: 2.5340 - val_loss: 2.9367 - val_mean_squared_error: 2.9367\n"
     ]
    },
    {
     "name": "stdout",
     "output_type": "stream",
     "text": [
      "Epoch 50/100\n",
      "2920/2920 [==============================] - 3s 957us/step - loss: 2.4754 - mean_squared_error: 2.4754 - val_loss: 3.1846 - val_mean_squared_error: 3.1846\n",
      "Epoch 51/100\n",
      "2920/2920 [==============================] - 3s 1ms/step - loss: 2.5284 - mean_squared_error: 2.5284 - val_loss: 2.9110 - val_mean_squared_error: 2.9110\n",
      "Epoch 52/100\n",
      "2920/2920 [==============================] - 3s 966us/step - loss: 2.4947 - mean_squared_error: 2.4947 - val_loss: 2.9024 - val_mean_squared_error: 2.9024\n",
      "Epoch 53/100\n",
      "2920/2920 [==============================] - 3s 1ms/step - loss: 2.4440 - mean_squared_error: 2.4440 - val_loss: 2.8999 - val_mean_squared_error: 2.8999\n",
      "Epoch 54/100\n",
      "2920/2920 [==============================] - 3s 973us/step - loss: 2.4218 - mean_squared_error: 2.4218 - val_loss: 2.9036 - val_mean_squared_error: 2.9036\n",
      "Epoch 55/100\n",
      "2920/2920 [==============================] - 3s 1ms/step - loss: 2.4431 - mean_squared_error: 2.4431 - val_loss: 2.9723 - val_mean_squared_error: 2.9723\n",
      "Epoch 56/100\n",
      "2920/2920 [==============================] - 3s 969us/step - loss: 2.4294 - mean_squared_error: 2.4294 - val_loss: 2.8941 - val_mean_squared_error: 2.8941\n",
      "Epoch 57/100\n",
      "2920/2920 [==============================] - 3s 1ms/step - loss: 2.4969 - mean_squared_error: 2.4969 - val_loss: 2.9450 - val_mean_squared_error: 2.9450\n",
      "Epoch 58/100\n",
      "2920/2920 [==============================] - 3s 982us/step - loss: 2.3743 - mean_squared_error: 2.3743 - val_loss: 3.1913 - val_mean_squared_error: 3.1913\n",
      "Epoch 59/100\n",
      "2920/2920 [==============================] - 3s 1ms/step - loss: 2.4265 - mean_squared_error: 2.4265 - val_loss: 2.8810 - val_mean_squared_error: 2.8810\n",
      "Epoch 60/100\n",
      "2920/2920 [==============================] - 3s 1ms/step - loss: 2.3736 - mean_squared_error: 2.3736 - val_loss: 3.0104 - val_mean_squared_error: 3.0104\n",
      "Epoch 61/100\n",
      "2920/2920 [==============================] - 3s 1ms/step - loss: 2.4040 - mean_squared_error: 2.4040 - val_loss: 2.9969 - val_mean_squared_error: 2.9969\n",
      "Epoch 62/100\n",
      "2920/2920 [==============================] - 3s 1ms/step - loss: 2.3415 - mean_squared_error: 2.3415 - val_loss: 3.1825 - val_mean_squared_error: 3.1825\n",
      "Epoch 63/100\n",
      "2920/2920 [==============================] - 3s 936us/step - loss: 2.3674 - mean_squared_error: 2.3674 - val_loss: 2.8650 - val_mean_squared_error: 2.8650\n",
      "Epoch 64/100\n",
      "2920/2920 [==============================] - 3s 1ms/step - loss: 2.3800 - mean_squared_error: 2.3800 - val_loss: 2.8593 - val_mean_squared_error: 2.8593\n",
      "Epoch 65/100\n",
      "2920/2920 [==============================] - 3s 966us/step - loss: 2.3570 - mean_squared_error: 2.3570 - val_loss: 3.1114 - val_mean_squared_error: 3.1114\n",
      "Epoch 66/100\n",
      "2920/2920 [==============================] - 3s 966us/step - loss: 2.3181 - mean_squared_error: 2.3181 - val_loss: 2.8518 - val_mean_squared_error: 2.8518\n",
      "Epoch 67/100\n",
      "2920/2920 [==============================] - 3s 1ms/step - loss: 2.3216 - mean_squared_error: 2.3216 - val_loss: 2.8930 - val_mean_squared_error: 2.8930\n",
      "Epoch 68/100\n",
      "2920/2920 [==============================] - 3s 970us/step - loss: 2.3511 - mean_squared_error: 2.3511 - val_loss: 2.8463 - val_mean_squared_error: 2.8463\n",
      "Epoch 69/100\n",
      "2920/2920 [==============================] - 3s 962us/step - loss: 2.2918 - mean_squared_error: 2.2918 - val_loss: 2.9937 - val_mean_squared_error: 2.9937\n",
      "Epoch 70/100\n",
      "2920/2920 [==============================] - 3s 1ms/step - loss: 2.3023 - mean_squared_error: 2.3023 - val_loss: 2.9703 - val_mean_squared_error: 2.9703\n",
      "Epoch 71/100\n",
      "2920/2920 [==============================] - 3s 967us/step - loss: 2.2500 - mean_squared_error: 2.2500 - val_loss: 2.9393 - val_mean_squared_error: 2.9393\n",
      "Epoch 72/100\n",
      "2920/2920 [==============================] - 3s 1ms/step - loss: 2.3227 - mean_squared_error: 2.3227 - val_loss: 2.8651 - val_mean_squared_error: 2.8651\n",
      "Epoch 73/100\n",
      "2920/2920 [==============================] - 3s 981us/step - loss: 2.3169 - mean_squared_error: 2.3169 - val_loss: 2.8324 - val_mean_squared_error: 2.8324\n",
      "Epoch 74/100\n",
      "2920/2920 [==============================] - 3s 1ms/step - loss: 2.2340 - mean_squared_error: 2.2340 - val_loss: 3.0000 - val_mean_squared_error: 3.0000\n",
      "Epoch 75/100\n",
      "2920/2920 [==============================] - 3s 955us/step - loss: 2.2364 - mean_squared_error: 2.2364 - val_loss: 2.8329 - val_mean_squared_error: 2.8329\n",
      "Epoch 76/100\n",
      "2920/2920 [==============================] - 3s 974us/step - loss: 2.2728 - mean_squared_error: 2.2728 - val_loss: 2.8229 - val_mean_squared_error: 2.8229\n",
      "Epoch 77/100\n",
      "2920/2920 [==============================] - 3s 1ms/step - loss: 2.2214 - mean_squared_error: 2.2214 - val_loss: 3.0677 - val_mean_squared_error: 3.0677\n",
      "Epoch 78/100\n",
      "2920/2920 [==============================] - 3s 953us/step - loss: 2.2462 - mean_squared_error: 2.2462 - val_loss: 2.8850 - val_mean_squared_error: 2.8850\n",
      "Epoch 79/100\n",
      "2920/2920 [==============================] - 3s 1ms/step - loss: 2.1789 - mean_squared_error: 2.1789 - val_loss: 2.8512 - val_mean_squared_error: 2.8512\n",
      "Epoch 80/100\n",
      "2920/2920 [==============================] - 3s 983us/step - loss: 2.2199 - mean_squared_error: 2.2199 - val_loss: 3.0189 - val_mean_squared_error: 3.0189\n",
      "Epoch 81/100\n",
      "2920/2920 [==============================] - 3s 1ms/step - loss: 2.1962 - mean_squared_error: 2.1962 - val_loss: 2.8176 - val_mean_squared_error: 2.8176\n",
      "Epoch 82/100\n",
      "2920/2920 [==============================] - 3s 968us/step - loss: 2.1922 - mean_squared_error: 2.1922 - val_loss: 2.9002 - val_mean_squared_error: 2.9002\n",
      "Epoch 83/100\n",
      "2920/2920 [==============================] - 3s 993us/step - loss: 2.1329 - mean_squared_error: 2.1329 - val_loss: 2.8133 - val_mean_squared_error: 2.8133\n",
      "Epoch 84/100\n",
      "2920/2920 [==============================] - 3s 945us/step - loss: 2.2038 - mean_squared_error: 2.2038 - val_loss: 2.8145 - val_mean_squared_error: 2.8145\n",
      "Epoch 85/100\n",
      "2920/2920 [==============================] - 3s 1ms/step - loss: 2.1532 - mean_squared_error: 2.1532 - val_loss: 3.0029 - val_mean_squared_error: 3.0029\n",
      "Epoch 86/100\n",
      "2920/2920 [==============================] - 3s 949us/step - loss: 2.1048 - mean_squared_error: 2.1048 - val_loss: 2.9865 - val_mean_squared_error: 2.9865\n",
      "Epoch 87/100\n",
      "2920/2920 [==============================] - 3s 1ms/step - loss: 2.1449 - mean_squared_error: 2.1449 - val_loss: 2.8006 - val_mean_squared_error: 2.8006\n",
      "Epoch 88/100\n",
      "2920/2920 [==============================] - 3s 950us/step - loss: 2.1818 - mean_squared_error: 2.1818 - val_loss: 2.8143 - val_mean_squared_error: 2.8143\n",
      "Epoch 89/100\n",
      "2920/2920 [==============================] - 3s 1ms/step - loss: 2.1203 - mean_squared_error: 2.1203 - val_loss: 2.8587 - val_mean_squared_error: 2.8587\n",
      "Epoch 90/100\n",
      "2920/2920 [==============================] - 3s 965us/step - loss: 2.0811 - mean_squared_error: 2.0811 - val_loss: 2.8186 - val_mean_squared_error: 2.8186\n",
      "Epoch 91/100\n",
      "2920/2920 [==============================] - 3s 1ms/step - loss: 2.1777 - mean_squared_error: 2.1777 - val_loss: 2.9704 - val_mean_squared_error: 2.9704\n",
      "Epoch 92/100\n",
      "2920/2920 [==============================] - 3s 968us/step - loss: 2.0295 - mean_squared_error: 2.0295 - val_loss: 2.8142 - val_mean_squared_error: 2.8142\n",
      "Epoch 93/100\n",
      "2920/2920 [==============================] - 3s 1ms/step - loss: 2.0942 - mean_squared_error: 2.0942 - val_loss: 2.9702 - val_mean_squared_error: 2.9702\n",
      "Epoch 94/100\n",
      "2920/2920 [==============================] - 3s 1ms/step - loss: 2.0104 - mean_squared_error: 2.0104 - val_loss: 2.7979 - val_mean_squared_error: 2.7979\n",
      "Epoch 95/100\n",
      "2920/2920 [==============================] - 3s 962us/step - loss: 2.0643 - mean_squared_error: 2.0643 - val_loss: 2.8139 - val_mean_squared_error: 2.8139\n",
      "Epoch 96/100\n",
      "2920/2920 [==============================] - 3s 1ms/step - loss: 1.9943 - mean_squared_error: 1.9943 - val_loss: 2.8979 - val_mean_squared_error: 2.8979\n",
      "Epoch 97/100\n",
      "2920/2920 [==============================] - 3s 1ms/step - loss: 2.1124 - mean_squared_error: 2.1124 - val_loss: 2.8254 - val_mean_squared_error: 2.8254\n",
      "Epoch 98/100\n",
      "2920/2920 [==============================] - 3s 1ms/step - loss: 1.9939 - mean_squared_error: 1.9939 - val_loss: 2.8425 - val_mean_squared_error: 2.8425\n",
      "Epoch 99/100\n"
     ]
    },
    {
     "name": "stdout",
     "output_type": "stream",
     "text": [
      "2920/2920 [==============================] - 3s 1ms/step - loss: 2.0450 - mean_squared_error: 2.0450 - val_loss: 3.0485 - val_mean_squared_error: 3.0485\n",
      "Epoch 100/100\n",
      "2920/2920 [==============================] - 4s 1ms/step - loss: 2.0531 - mean_squared_error: 2.0531 - val_loss: 2.7946 - val_mean_squared_error: 2.7946\n"
     ]
    }
   ],
   "source": [
    "history1 = model.fit(train_x, train_y, \n",
    "                    validation_data=(valid_x, valid_y),\n",
    "                    epochs=nb_epochs,\n",
    "                    batch_size=nb_batch,\n",
    "                    verbose=1)"
   ]
  },
  {
   "cell_type": "code",
   "execution_count": 55,
   "metadata": {},
   "outputs": [
    {
     "name": "stdout",
     "output_type": "stream",
     "text": [
      "Train on 2920 samples, validate on 365 samples\n",
      "Epoch 1/100\n",
      "2920/2920 [==============================] - 14s 5ms/step - loss: 34.9488 - mean_squared_error: 34.9488 - val_loss: 24.3936 - val_mean_squared_error: 24.3936\n",
      "Epoch 2/100\n",
      "2920/2920 [==============================] - 3s 947us/step - loss: 14.7472 - mean_squared_error: 14.7472 - val_loss: 7.1446 - val_mean_squared_error: 7.1446\n",
      "Epoch 3/100\n",
      "2920/2920 [==============================] - 3s 951us/step - loss: 4.3024 - mean_squared_error: 4.3024 - val_loss: 4.0991 - val_mean_squared_error: 4.0991\n",
      "Epoch 4/100\n",
      "2920/2920 [==============================] - 3s 952us/step - loss: 3.5207 - mean_squared_error: 3.5207 - val_loss: 4.0628 - val_mean_squared_error: 4.0628\n",
      "Epoch 5/100\n",
      "2920/2920 [==============================] - 3s 951us/step - loss: 3.4902 - mean_squared_error: 3.4902 - val_loss: 4.0489 - val_mean_squared_error: 4.0489\n",
      "Epoch 6/100\n",
      "2920/2920 [==============================] - 3s 969us/step - loss: 3.4863 - mean_squared_error: 3.4863 - val_loss: 3.9796 - val_mean_squared_error: 3.9796\n",
      "Epoch 7/100\n",
      "2920/2920 [==============================] - 3s 938us/step - loss: 3.4353 - mean_squared_error: 3.4353 - val_loss: 4.0015 - val_mean_squared_error: 4.0015\n",
      "Epoch 8/100\n",
      "2920/2920 [==============================] - 3s 964us/step - loss: 3.3921 - mean_squared_error: 3.3921 - val_loss: 4.1034 - val_mean_squared_error: 4.1034\n",
      "Epoch 9/100\n",
      "2920/2920 [==============================] - 3s 976us/step - loss: 3.3505 - mean_squared_error: 3.3505 - val_loss: 3.8313 - val_mean_squared_error: 3.8313\n",
      "Epoch 10/100\n",
      "2920/2920 [==============================] - 3s 941us/step - loss: 3.3264 - mean_squared_error: 3.3264 - val_loss: 3.7769 - val_mean_squared_error: 3.7769\n",
      "Epoch 11/100\n",
      "2920/2920 [==============================] - 3s 942us/step - loss: 3.3053 - mean_squared_error: 3.3053 - val_loss: 3.8481 - val_mean_squared_error: 3.8481\n",
      "Epoch 12/100\n",
      "2920/2920 [==============================] - 3s 985us/step - loss: 3.2522 - mean_squared_error: 3.2522 - val_loss: 3.7508 - val_mean_squared_error: 3.7508\n",
      "Epoch 13/100\n",
      "2920/2920 [==============================] - 3s 924us/step - loss: 3.2149 - mean_squared_error: 3.2149 - val_loss: 3.6740 - val_mean_squared_error: 3.6740\n",
      "Epoch 14/100\n",
      "2920/2920 [==============================] - 3s 966us/step - loss: 3.1601 - mean_squared_error: 3.1601 - val_loss: 3.9979 - val_mean_squared_error: 3.9979\n",
      "Epoch 15/100\n",
      "2920/2920 [==============================] - 3s 963us/step - loss: 3.1610 - mean_squared_error: 3.1610 - val_loss: 3.6047 - val_mean_squared_error: 3.6047\n",
      "Epoch 16/100\n",
      "2920/2920 [==============================] - 3s 962us/step - loss: 3.1203 - mean_squared_error: 3.1203 - val_loss: 3.5757 - val_mean_squared_error: 3.5757\n",
      "Epoch 17/100\n",
      "2920/2920 [==============================] - 3s 956us/step - loss: 3.1176 - mean_squared_error: 3.1176 - val_loss: 3.6073 - val_mean_squared_error: 3.6073\n",
      "Epoch 18/100\n",
      "2920/2920 [==============================] - 3s 950us/step - loss: 3.1156 - mean_squared_error: 3.1156 - val_loss: 3.6142 - val_mean_squared_error: 3.6142\n",
      "Epoch 19/100\n",
      "2920/2920 [==============================] - 3s 919us/step - loss: 3.0951 - mean_squared_error: 3.0951 - val_loss: 3.5092 - val_mean_squared_error: 3.5092\n",
      "Epoch 20/100\n",
      "2920/2920 [==============================] - 3s 941us/step - loss: 3.0566 - mean_squared_error: 3.0566 - val_loss: 3.4921 - val_mean_squared_error: 3.4921\n",
      "Epoch 21/100\n",
      "2920/2920 [==============================] - 3s 949us/step - loss: 3.0467 - mean_squared_error: 3.0467 - val_loss: 3.5541 - val_mean_squared_error: 3.5541\n",
      "Epoch 22/100\n",
      "2920/2920 [==============================] - 3s 941us/step - loss: 3.0029 - mean_squared_error: 3.0029 - val_loss: 3.8966 - val_mean_squared_error: 3.8966\n",
      "Epoch 23/100\n",
      "2920/2920 [==============================] - 3s 975us/step - loss: 3.0562 - mean_squared_error: 3.0562 - val_loss: 3.6039 - val_mean_squared_error: 3.6039\n",
      "Epoch 24/100\n",
      "2920/2920 [==============================] - 3s 968us/step - loss: 2.9831 - mean_squared_error: 2.9831 - val_loss: 3.4620 - val_mean_squared_error: 3.4620\n",
      "Epoch 25/100\n",
      "2920/2920 [==============================] - 3s 946us/step - loss: 2.9983 - mean_squared_error: 2.9983 - val_loss: 3.5040 - val_mean_squared_error: 3.5040\n",
      "Epoch 26/100\n",
      "2920/2920 [==============================] - 3s 961us/step - loss: 2.9451 - mean_squared_error: 2.9451 - val_loss: 3.5030 - val_mean_squared_error: 3.5030\n",
      "Epoch 27/100\n",
      "2920/2920 [==============================] - 3s 954us/step - loss: 2.9372 - mean_squared_error: 2.9372 - val_loss: 3.3926 - val_mean_squared_error: 3.3926\n",
      "Epoch 28/100\n",
      "2920/2920 [==============================] - 3s 972us/step - loss: 2.9142 - mean_squared_error: 2.9142 - val_loss: 3.4368 - val_mean_squared_error: 3.4368\n",
      "Epoch 29/100\n",
      "2920/2920 [==============================] - 3s 932us/step - loss: 2.9549 - mean_squared_error: 2.9549 - val_loss: 3.5905 - val_mean_squared_error: 3.5905\n",
      "Epoch 30/100\n",
      "2920/2920 [==============================] - 3s 956us/step - loss: 2.9067 - mean_squared_error: 2.9067 - val_loss: 3.4814 - val_mean_squared_error: 3.4814\n",
      "Epoch 31/100\n",
      "2920/2920 [==============================] - 3s 986us/step - loss: 2.9042 - mean_squared_error: 2.9042 - val_loss: 3.3775 - val_mean_squared_error: 3.3775\n",
      "Epoch 32/100\n",
      "2920/2920 [==============================] - 3s 964us/step - loss: 2.8760 - mean_squared_error: 2.8760 - val_loss: 3.3441 - val_mean_squared_error: 3.3441\n",
      "Epoch 33/100\n",
      "2920/2920 [==============================] - 3s 942us/step - loss: 2.9050 - mean_squared_error: 2.9050 - val_loss: 3.3333 - val_mean_squared_error: 3.3333\n",
      "Epoch 34/100\n",
      "2920/2920 [==============================] - 3s 943us/step - loss: 2.8984 - mean_squared_error: 2.8984 - val_loss: 3.3474 - val_mean_squared_error: 3.3474\n",
      "Epoch 35/100\n",
      "2920/2920 [==============================] - 3s 929us/step - loss: 2.8593 - mean_squared_error: 2.8593 - val_loss: 3.3297 - val_mean_squared_error: 3.3297\n",
      "Epoch 36/100\n",
      "2920/2920 [==============================] - 3s 953us/step - loss: 2.8636 - mean_squared_error: 2.8636 - val_loss: 3.3102 - val_mean_squared_error: 3.3102\n",
      "Epoch 37/100\n",
      "2920/2920 [==============================] - 3s 953us/step - loss: 2.8194 - mean_squared_error: 2.8194 - val_loss: 3.3757 - val_mean_squared_error: 3.3757\n",
      "Epoch 38/100\n",
      "2920/2920 [==============================] - 3s 954us/step - loss: 2.9053 - mean_squared_error: 2.9053 - val_loss: 3.2921 - val_mean_squared_error: 3.2921\n",
      "Epoch 39/100\n",
      "2920/2920 [==============================] - 3s 941us/step - loss: 2.8328 - mean_squared_error: 2.8328 - val_loss: 3.3938 - val_mean_squared_error: 3.3938\n",
      "Epoch 40/100\n",
      "2920/2920 [==============================] - 3s 969us/step - loss: 2.7751 - mean_squared_error: 2.7751 - val_loss: 3.3087 - val_mean_squared_error: 3.3087\n",
      "Epoch 41/100\n",
      "2920/2920 [==============================] - 3s 926us/step - loss: 2.8192 - mean_squared_error: 2.8192 - val_loss: 3.3491 - val_mean_squared_error: 3.3491\n",
      "Epoch 42/100\n",
      "2920/2920 [==============================] - 3s 929us/step - loss: 2.8150 - mean_squared_error: 2.8150 - val_loss: 3.7306 - val_mean_squared_error: 3.7306\n",
      "Epoch 43/100\n",
      "2920/2920 [==============================] - 3s 956us/step - loss: 2.8102 - mean_squared_error: 2.8102 - val_loss: 3.2621 - val_mean_squared_error: 3.2621\n",
      "Epoch 44/100\n",
      "2920/2920 [==============================] - 3s 955us/step - loss: 2.7392 - mean_squared_error: 2.7392 - val_loss: 3.4380 - val_mean_squared_error: 3.4380\n",
      "Epoch 45/100\n",
      "2920/2920 [==============================] - 3s 974us/step - loss: 2.7884 - mean_squared_error: 2.7884 - val_loss: 3.5208 - val_mean_squared_error: 3.5208\n",
      "Epoch 46/100\n",
      "2920/2920 [==============================] - 3s 968us/step - loss: 2.8353 - mean_squared_error: 2.8353 - val_loss: 3.3941 - val_mean_squared_error: 3.3941\n",
      "Epoch 47/100\n",
      "2920/2920 [==============================] - 3s 930us/step - loss: 2.7686 - mean_squared_error: 2.7686 - val_loss: 3.4276 - val_mean_squared_error: 3.4276\n",
      "Epoch 48/100\n",
      "2920/2920 [==============================] - 3s 977us/step - loss: 2.7122 - mean_squared_error: 2.7122 - val_loss: 3.2910 - val_mean_squared_error: 3.2910\n",
      "Epoch 49/100\n",
      "2920/2920 [==============================] - 3s 956us/step - loss: 2.7138 - mean_squared_error: 2.7138 - val_loss: 3.2404 - val_mean_squared_error: 3.2404\n",
      "Epoch 50/100\n",
      "2920/2920 [==============================] - 3s 947us/step - loss: 2.7441 - mean_squared_error: 2.7441 - val_loss: 3.3213 - val_mean_squared_error: 3.3213\n",
      "Epoch 51/100\n",
      "2920/2920 [==============================] - 3s 956us/step - loss: 2.7387 - mean_squared_error: 2.7387 - val_loss: 3.3607 - val_mean_squared_error: 3.3607\n",
      "Epoch 52/100\n",
      "2920/2920 [==============================] - 3s 964us/step - loss: 2.7109 - mean_squared_error: 2.7109 - val_loss: 3.2189 - val_mean_squared_error: 3.2189\n",
      "Epoch 53/100\n",
      "2920/2920 [==============================] - 3s 944us/step - loss: 2.7179 - mean_squared_error: 2.7179 - val_loss: 3.4200 - val_mean_squared_error: 3.4200\n",
      "Epoch 54/100\n",
      "2920/2920 [==============================] - 3s 947us/step - loss: 2.6749 - mean_squared_error: 2.6749 - val_loss: 3.2014 - val_mean_squared_error: 3.2014\n",
      "Epoch 55/100\n",
      "2920/2920 [==============================] - 3s 935us/step - loss: 2.6688 - mean_squared_error: 2.6688 - val_loss: 3.1960 - val_mean_squared_error: 3.1960\n",
      "Epoch 56/100\n",
      "2920/2920 [==============================] - 3s 939us/step - loss: 2.6718 - mean_squared_error: 2.6718 - val_loss: 3.4432 - val_mean_squared_error: 3.4432\n",
      "Epoch 57/100\n",
      "2920/2920 [==============================] - 3s 952us/step - loss: 2.7113 - mean_squared_error: 2.7113 - val_loss: 3.1848 - val_mean_squared_error: 3.1848\n",
      "Epoch 58/100\n",
      "2920/2920 [==============================] - 3s 965us/step - loss: 2.6115 - mean_squared_error: 2.6115 - val_loss: 3.4898 - val_mean_squared_error: 3.4898\n",
      "Epoch 59/100\n",
      "2920/2920 [==============================] - 3s 966us/step - loss: 2.6355 - mean_squared_error: 2.6355 - val_loss: 3.1791 - val_mean_squared_error: 3.1791\n",
      "Epoch 60/100\n",
      "2920/2920 [==============================] - 3s 977us/step - loss: 2.6615 - mean_squared_error: 2.6615 - val_loss: 3.1751 - val_mean_squared_error: 3.1751\n",
      "Epoch 61/100\n",
      "2920/2920 [==============================] - 3s 994us/step - loss: 2.6793 - mean_squared_error: 2.6793 - val_loss: 3.2479 - val_mean_squared_error: 3.2479\n",
      "Epoch 62/100\n",
      "2920/2920 [==============================] - 3s 966us/step - loss: 2.6461 - mean_squared_error: 2.6461 - val_loss: 3.2018 - val_mean_squared_error: 3.2018\n",
      "Epoch 63/100\n",
      "2920/2920 [==============================] - 3s 950us/step - loss: 2.5773 - mean_squared_error: 2.5773 - val_loss: 3.3585 - val_mean_squared_error: 3.3585\n",
      "Epoch 64/100\n",
      "2920/2920 [==============================] - 3s 946us/step - loss: 2.5560 - mean_squared_error: 2.5560 - val_loss: 3.6367 - val_mean_squared_error: 3.6367\n",
      "Epoch 65/100\n",
      "2920/2920 [==============================] - 3s 982us/step - loss: 2.6105 - mean_squared_error: 2.6105 - val_loss: 3.4324 - val_mean_squared_error: 3.4324\n",
      "Epoch 66/100\n",
      "2920/2920 [==============================] - 3s 995us/step - loss: 2.5805 - mean_squared_error: 2.5805 - val_loss: 3.2248 - val_mean_squared_error: 3.2248\n",
      "Epoch 67/100\n",
      "2920/2920 [==============================] - 3s 958us/step - loss: 2.5886 - mean_squared_error: 2.5886 - val_loss: 3.1243 - val_mean_squared_error: 3.1243\n",
      "Epoch 68/100\n",
      "2920/2920 [==============================] - 3s 953us/step - loss: 2.6017 - mean_squared_error: 2.6017 - val_loss: 3.2294 - val_mean_squared_error: 3.2294\n",
      "Epoch 69/100\n",
      "2920/2920 [==============================] - 3s 957us/step - loss: 2.5341 - mean_squared_error: 2.5341 - val_loss: 3.8750 - val_mean_squared_error: 3.8750\n",
      "Epoch 70/100\n",
      "2920/2920 [==============================] - 3s 961us/step - loss: 2.5295 - mean_squared_error: 2.5295 - val_loss: 3.1377 - val_mean_squared_error: 3.1377\n",
      "Epoch 71/100\n",
      "2920/2920 [==============================] - 3s 947us/step - loss: 2.5414 - mean_squared_error: 2.5414 - val_loss: 3.3238 - val_mean_squared_error: 3.3238\n",
      "Epoch 72/100\n",
      "2920/2920 [==============================] - 3s 935us/step - loss: 2.5520 - mean_squared_error: 2.5520 - val_loss: 3.1026 - val_mean_squared_error: 3.1026\n",
      "Epoch 73/100\n",
      "2920/2920 [==============================] - 3s 935us/step - loss: 2.5315 - mean_squared_error: 2.5315 - val_loss: 3.1133 - val_mean_squared_error: 3.1133\n",
      "Epoch 74/100\n",
      "2920/2920 [==============================] - 3s 969us/step - loss: 2.5095 - mean_squared_error: 2.5095 - val_loss: 3.2217 - val_mean_squared_error: 3.2217\n",
      "Epoch 75/100\n",
      "2920/2920 [==============================] - 3s 960us/step - loss: 2.5023 - mean_squared_error: 2.5023 - val_loss: 3.3393 - val_mean_squared_error: 3.3393\n",
      "Epoch 76/100\n",
      "2920/2920 [==============================] - 3s 952us/step - loss: 2.5066 - mean_squared_error: 2.5066 - val_loss: 3.0980 - val_mean_squared_error: 3.0980\n",
      "Epoch 77/100\n",
      "2920/2920 [==============================] - 3s 947us/step - loss: 2.5040 - mean_squared_error: 2.5040 - val_loss: 3.1143 - val_mean_squared_error: 3.1143\n",
      "Epoch 78/100\n",
      "2920/2920 [==============================] - 3s 982us/step - loss: 2.5071 - mean_squared_error: 2.5071 - val_loss: 3.1564 - val_mean_squared_error: 3.1564\n",
      "Epoch 79/100\n",
      "2920/2920 [==============================] - 3s 949us/step - loss: 2.4790 - mean_squared_error: 2.4790 - val_loss: 3.0825 - val_mean_squared_error: 3.0825\n",
      "Epoch 80/100\n",
      "2920/2920 [==============================] - 3s 979us/step - loss: 2.5152 - mean_squared_error: 2.5152 - val_loss: 3.2192 - val_mean_squared_error: 3.2192\n",
      "Epoch 81/100\n",
      "2920/2920 [==============================] - 3s 958us/step - loss: 2.4499 - mean_squared_error: 2.4499 - val_loss: 3.0706 - val_mean_squared_error: 3.0706\n",
      "Epoch 82/100\n",
      "2920/2920 [==============================] - 3s 971us/step - loss: 2.5011 - mean_squared_error: 2.5011 - val_loss: 3.0909 - val_mean_squared_error: 3.0909\n",
      "Epoch 83/100\n",
      "2920/2920 [==============================] - 3s 978us/step - loss: 2.4540 - mean_squared_error: 2.4540 - val_loss: 3.1050 - val_mean_squared_error: 3.1050\n",
      "Epoch 84/100\n",
      "2920/2920 [==============================] - 3s 949us/step - loss: 2.4397 - mean_squared_error: 2.4397 - val_loss: 3.2396 - val_mean_squared_error: 3.2396\n",
      "Epoch 85/100\n",
      "2920/2920 [==============================] - 3s 965us/step - loss: 2.4247 - mean_squared_error: 2.4247 - val_loss: 3.3359 - val_mean_squared_error: 3.3359\n",
      "Epoch 86/100\n",
      "2920/2920 [==============================] - 3s 957us/step - loss: 2.3959 - mean_squared_error: 2.3959 - val_loss: 3.4060 - val_mean_squared_error: 3.4060\n",
      "Epoch 87/100\n",
      "2920/2920 [==============================] - 3s 954us/step - loss: 2.5348 - mean_squared_error: 2.5348 - val_loss: 3.0741 - val_mean_squared_error: 3.0741\n",
      "Epoch 88/100\n",
      "2920/2920 [==============================] - 3s 962us/step - loss: 2.3838 - mean_squared_error: 2.3838 - val_loss: 3.0641 - val_mean_squared_error: 3.0641\n",
      "Epoch 89/100\n",
      "2920/2920 [==============================] - 3s 934us/step - loss: 2.4485 - mean_squared_error: 2.4485 - val_loss: 3.3676 - val_mean_squared_error: 3.3676\n",
      "Epoch 90/100\n",
      "2920/2920 [==============================] - 3s 973us/step - loss: 2.4240 - mean_squared_error: 2.4240 - val_loss: 3.0713 - val_mean_squared_error: 3.0713\n",
      "Epoch 91/100\n",
      "2920/2920 [==============================] - 3s 947us/step - loss: 2.3547 - mean_squared_error: 2.3547 - val_loss: 3.1337 - val_mean_squared_error: 3.1337\n",
      "Epoch 92/100\n",
      "2920/2920 [==============================] - 3s 948us/step - loss: 2.4546 - mean_squared_error: 2.4546 - val_loss: 3.0230 - val_mean_squared_error: 3.0230\n",
      "Epoch 93/100\n",
      "2920/2920 [==============================] - 3s 936us/step - loss: 2.3836 - mean_squared_error: 2.3836 - val_loss: 3.0603 - val_mean_squared_error: 3.0603\n",
      "Epoch 94/100\n",
      "2920/2920 [==============================] - 3s 963us/step - loss: 2.3945 - mean_squared_error: 2.3945 - val_loss: 3.0646 - val_mean_squared_error: 3.0646\n",
      "Epoch 95/100\n",
      "2920/2920 [==============================] - 3s 960us/step - loss: 2.3315 - mean_squared_error: 2.3315 - val_loss: 3.0278 - val_mean_squared_error: 3.0278\n",
      "Epoch 96/100\n",
      "2920/2920 [==============================] - 3s 959us/step - loss: 2.4086 - mean_squared_error: 2.4086 - val_loss: 3.1093 - val_mean_squared_error: 3.1093\n",
      "Epoch 97/100\n",
      "2920/2920 [==============================] - 3s 943us/step - loss: 2.3261 - mean_squared_error: 2.3261 - val_loss: 3.3180 - val_mean_squared_error: 3.3180\n"
     ]
    },
    {
     "name": "stdout",
     "output_type": "stream",
     "text": [
      "Epoch 98/100\n",
      "2920/2920 [==============================] - 3s 936us/step - loss: 2.3178 - mean_squared_error: 2.3178 - val_loss: 3.5561 - val_mean_squared_error: 3.5561\n",
      "Epoch 99/100\n",
      "2920/2920 [==============================] - 3s 981us/step - loss: 2.4404 - mean_squared_error: 2.4404 - val_loss: 3.0321 - val_mean_squared_error: 3.0321\n",
      "Epoch 100/100\n",
      "2920/2920 [==============================] - 3s 941us/step - loss: 2.2996 - mean_squared_error: 2.2996 - val_loss: 3.7183 - val_mean_squared_error: 3.7183\n"
     ]
    }
   ],
   "source": [
    "history = model.fit(train_x, train_y, \n",
    "                    validation_data=(valid_x, valid_y),\n",
    "                    epochs=nb_epochs,\n",
    "                    batch_size=nb_batch,\n",
    "                    verbose=1)"
   ]
  },
  {
   "cell_type": "code",
   "execution_count": 122,
   "metadata": {},
   "outputs": [
    {
     "data": {
      "text/plain": [
       "dict_keys(['val_loss', 'val_mean_squared_error', 'loss', 'mean_squared_error'])"
      ]
     },
     "execution_count": 122,
     "metadata": {},
     "output_type": "execute_result"
    }
   ],
   "source": [
    "history1.history.keys()"
   ]
  },
  {
   "cell_type": "code",
   "execution_count": 123,
   "metadata": {},
   "outputs": [
    {
     "data": {
      "image/png": "[encoded data removed]",
      "text/plain": [
       "<matplotlib.figure.Figure at 0x7f85d80afda0>"
      ]
     },
     "metadata": {},
     "output_type": "display_data"
    }
   ],
   "source": [
    "plt.figure()\n",
    "plt.plot(history1.history['loss'])\n",
    "plt.plot(history1.history['val_loss'])\n",
    "plt.xlabel(\"Epochs\")\n",
    "plt.ylabel(\"MSE\")\n",
    "plt.legend([\"Training\", \"Validation\"])\n",
    "plt.show()"
   ]
  },
  {
   "cell_type": "code",
   "execution_count": 124,
   "metadata": {},
   "outputs": [
    {
     "name": "stdout",
     "output_type": "stream",
     "text": [
      "Train R2: 0.511 , Test R2: 0.221, Valid R2: 0.306\n"
     ]
    }
   ],
   "source": [
    "train_r2 = r2_score(y_pred=model.predict(train_x), y_true=train_y)\n",
    "test_r2 = r2_score(y_pred=model.predict(test_x), y_true=test_y)\n",
    "valid_r2 = r2_score(y_pred=model.predict(valid_x), y_true=valid_y)\n",
    "print(\"Train R2: %0.3f , Test R2: %0.3f, Valid R2: %0.3f\" % (train_r2, test_r2, valid_r2))"
   ]
  },
  {
   "cell_type": "code",
   "execution_count": null,
   "metadata": {},
   "outputs": [],
   "source": []
  }
 ],
 "metadata": {
  "kernelspec": {
   "display_name": "Python 3",
   "language": "python",
   "name": "python3"
  },
  "language_info": {
   "codemirror_mode": {
    "name": "ipython",
    "version": 3
   },
   "file_extension": ".py",
   "mimetype": "text/x-python",
   "name": "python",
   "nbconvert_exporter": "python",
   "pygments_lexer": "ipython3",
   "version": "3.6.4"
  }
 },
 "nbformat": 4,
 "nbformat_minor": 2
}
