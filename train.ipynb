{
 "cells": [
  {
   "cell_type": "code",
   "execution_count": 7,
   "metadata": {},
   "outputs": [],
   "source": [
    "import pickle\n",
    "import csv\n",
    "import numpy as np\n",
    "import os"
   ]
  },
  {
   "cell_type": "code",
   "execution_count": 8,
   "metadata": {},
   "outputs": [],
   "source": [
    "file_exp_value = \"data/pdbbind_refined_set.csv\"\n",
    "data_dir = \"data\""
   ]
  },
  {
   "cell_type": "code",
   "execution_count": 9,
   "metadata": {},
   "outputs": [],
   "source": [
    "# Read the data file and get all the pdb ids\n",
    "def read_score():\n",
    "    pdb_ids = []\n",
    "    scores = {}\n",
    "    with open(file_exp_value, 'r') as csvfile:\n",
    "        reader = csv.reader(csvfile)\n",
    "        next(reader, None) # Skip the header\n",
    "        for row in reader:\n",
    "            pdb_ids.append(row[1])\n",
    "            scores[row[1]]= float(row[5])\n",
    "\n",
    "    return pdb_ids, scores"
   ]
  },
  {
   "cell_type": "code",
   "execution_count": 102,
   "metadata": {},
   "outputs": [],
   "source": [
    "def _reshape(x, new_shape):\n",
    "    dim_diff = np.subtract(new_shape, x.shape)\n",
    "    pad_dim = np.round(dim_diff / 2).astype(int)\n",
    "    x = np.pad(x, [(pad_dim[0], dim_diff[0]-pad_dim[0]),\n",
    "                   (pad_dim[1], dim_diff[1]-pad_dim[1]),\n",
    "                   (pad_dim[2], dim_diff[2]-pad_dim[2]),\n",
    "                   (0, 0)],\n",
    "               'constant')\n",
    "    \n",
    "    return x"
   ]
  },
  {
   "cell_type": "code",
   "execution_count": 204,
   "metadata": {},
   "outputs": [],
   "source": [
    "def read_data():\n",
    "    features_file = os.path.join(data_dir, \"features_side_1_neigh.pickle\")\n",
    "    \n",
    "    with open(features_file, \"rb\") as f:\n",
    "        features = pickle.load(f)\n",
    "    \n",
    "    # Reshape features\n",
    "    shape_ar = np.array([f.shape for f in features.values()], dtype=np.int)\n",
    "    new_shape = np.amax(shape_ar, axis=0)\n",
    "    #new_shape = np.array([24, 24, 24, 8])\n",
    "    features_array = np.array([_reshape(f, new_shape) for f in features.values()], dtype=np.float32)\n",
    "    return list(features.keys()), features_array\n",
    "    #return list(features.keys()), np.array(list(features.values()), dtype=np.float32)"
   ]
  },
  {
   "cell_type": "code",
   "execution_count": 205,
   "metadata": {},
   "outputs": [],
   "source": [
    "exp_ids, exp_scores = read_score()\n",
    "pdb_ids, features = read_data()"
   ]
  },
  {
   "cell_type": "code",
   "execution_count": 206,
   "metadata": {},
   "outputs": [
    {
     "name": "stdout",
     "output_type": "stream",
     "text": [
      "4154 4154 3882 (3882, 47, 45, 46, 8)\n"
     ]
    }
   ],
   "source": [
    "print(len(exp_ids), len(exp_scores), len(pdb_ids), features.shape)"
   ]
  },
  {
   "cell_type": "code",
   "execution_count": 207,
   "metadata": {},
   "outputs": [],
   "source": [
    "# Valid features (has exp values)\n",
    "found_mask = [i in exp_ids for i in pdb_ids]\n",
    "features = features[found_mask]\n",
    "valid_pdb_ids = [i for i in pdb_ids if i in exp_ids]\n",
    "exp_values = np.array([exp_scores[k] for k in valid_pdb_ids], dtype=np.float32)"
   ]
  },
  {
   "cell_type": "code",
   "execution_count": 208,
   "metadata": {},
   "outputs": [
    {
     "name": "stdout",
     "output_type": "stream",
     "text": [
      "(3650, 47, 45, 46, 8) 3650\n"
     ]
    }
   ],
   "source": [
    "print(features.shape, len(exp_values))"
   ]
  },
  {
   "cell_type": "code",
   "execution_count": 209,
   "metadata": {},
   "outputs": [
    {
     "data": {
      "text/plain": [
       "array([0.01467088, 0.00285977, 0.00857883, 0.01577183, 0.009899  ,\n",
       "       0.        , 0.0250599 , 0.        ], dtype=float32)"
      ]
     },
     "execution_count": 209,
     "metadata": {},
     "output_type": "execute_result"
    }
   ],
   "source": [
    "np.var(features.reshape((-1, 8)), axis=0)"
   ]
  },
  {
   "cell_type": "code",
   "execution_count": 210,
   "metadata": {},
   "outputs": [],
   "source": [
    "from sklearn.model_selection import train_test_split"
   ]
  },
  {
   "cell_type": "code",
   "execution_count": 211,
   "metadata": {},
   "outputs": [
    {
     "name": "stdout",
     "output_type": "stream",
     "text": [
      "(2920, 47, 45, 46, 8) (365, 47, 45, 46, 8) (365, 47, 45, 46, 8)\n"
     ]
    }
   ],
   "source": [
    "train_x, test_x, train_y, test_y = train_test_split(features, exp_values, test_size=0.2, random_state=1)\n",
    "test_x, valid_x, test_y, valid_y = train_test_split(test_x, test_y, test_size=0.5, random_state=1)\n",
    "print(train_x.shape, test_x.shape, valid_x.shape)"
   ]
  },
  {
   "cell_type": "code",
   "execution_count": 212,
   "metadata": {},
   "outputs": [],
   "source": [
    "from keras.models import Sequential, Model\n",
    "from keras.layers import Dropout, Flatten, Dense, Input, Add, merge, concatenate\n",
    "from keras.layers.convolutional import Conv3D\n",
    "from keras.layers.pooling import MaxPooling3D, GlobalAveragePooling3D, AveragePooling3D\n",
    "from keras import metrics\n",
    "from keras import optimizers\n",
    "from keras.utils import plot_model\n",
    "from keras import backend as K\n",
    "from keras.utils.training_utils import multi_gpu_model\n",
    "from keras.utils.data_utils import Sequence\n",
    "from keras.callbacks import ModelCheckpoint\n",
    "from keras.initializers import he_uniform\n",
    "from tqdm import *\n",
    "import glob\n",
    "import os\n",
    "import random\n",
    "from sklearn.metrics import r2_score\n",
    "import matplotlib.pyplot as plt"
   ]
  },
  {
   "cell_type": "code",
   "execution_count": 214,
   "metadata": {},
   "outputs": [],
   "source": [
    "def get_model1(summary=False):\n",
    "    \"\"\" Return the Keras model of the network\n",
    "    \"\"\"\n",
    "    model = Sequential()\n",
    "    \n",
    "    # 1st layer group\n",
    "    model.add(Conv3D(filters=32,\n",
    "                     kernel_size=(3, 3, 3),\n",
    "                     strides = (1, 1, 1),\n",
    "                     input_shape=(47, 45, 46, 8),\n",
    "                     padding='same',\n",
    "                     activation='relu',\n",
    "                     kernel_initializer=he_uniform(seed=9876),\n",
    "                     bias_initializer='zeros'))\n",
    "    \n",
    "    model.add(Conv3D(filters=32,\n",
    "                     kernel_size=(3, 3, 3),\n",
    "                     strides = (1, 1, 1),\n",
    "                     activation='relu',\n",
    "                     kernel_initializer=he_uniform(seed=9876),\n",
    "                     padding='same'))\n",
    "    \n",
    "    model.add(MaxPooling3D(pool_size=(2, 2, 2),\n",
    "                           padding='valid'))\n",
    "    \n",
    "    # 2nd layer group\n",
    "    model.add(Conv3D(filters=64,\n",
    "                     kernel_size=(3, 3, 3),\n",
    "                     strides = (1, 1, 1),\n",
    "                     activation='relu',\n",
    "                     kernel_initializer=he_uniform(seed=9876),\n",
    "                     padding='same'))\n",
    "    \n",
    "    model.add(Conv3D(filters=64,\n",
    "                     kernel_size=(3, 3, 3),\n",
    "                     strides = (1, 1, 1),\n",
    "                     activation='relu',\n",
    "                     kernel_initializer=he_uniform(seed=9876),\n",
    "                     padding='same'))\n",
    "    \n",
    "    model.add(MaxPooling3D(pool_size=(2, 2, 2),\n",
    "                           padding='valid'))\n",
    "    \n",
    "    # 3rd layer group\n",
    "    model.add(Conv3D(filters=128,\n",
    "                     kernel_size=(3, 3, 3),\n",
    "                     strides = (1, 1, 1),\n",
    "                     activation='relu',\n",
    "                     kernel_initializer=he_uniform(seed=9876),\n",
    "                     padding='same'))\n",
    "    \n",
    "    model.add(Conv3D(filters=128,\n",
    "                     kernel_size=(3, 3, 3),\n",
    "                     strides = (1, 1, 1),\n",
    "                     activation='relu',\n",
    "                     kernel_initializer=he_uniform(seed=9876),\n",
    "                     padding='same'))\n",
    "    \n",
    "    model.add(MaxPooling3D(pool_size=(2, 2, 2),\n",
    "                           padding='valid'))\n",
    "    \n",
    "    # 4th layer group\n",
    "#     model.add(Conv3D(filters=128,\n",
    "#                      kernel_size=(3, 3, 3),\n",
    "#                      activation='relu',\n",
    "#                      padding='valid'))\n",
    "    \n",
    "#     model.add(MaxPooling3D(pool_size=(2, 2, 2),\n",
    "#                            #strides=(1, 1, 1),\n",
    "#                            padding='valid'))\n",
    "    \n",
    "    #model.add(AveragePooling3D(pool_size=(2, 2, 2), \n",
    "    #                           padding='valid'))\n",
    "                           \n",
    "    model.add(Flatten())\n",
    "#     model.add(Dense(512, activation='relu'))\n",
    "#     model.add(Dropout(.5))\n",
    "    model.add(Dense(256, activation='relu'))\n",
    "#     model.add(Dropout(.5))\n",
    "    model.add(Dense(1, activation='linear'))\n",
    "    if summary:\n",
    "        print(model.summary())\n",
    "    return model"
   ]
  },
  {
   "cell_type": "code",
   "execution_count": 215,
   "metadata": {},
   "outputs": [],
   "source": [
    "nb_gpus = 8\n",
    "nb_batch = nb_gpus*32\n",
    "nb_epochs = 100\n",
    "l_rate = 0.00001"
   ]
  },
  {
   "cell_type": "code",
   "execution_count": 216,
   "metadata": {},
   "outputs": [],
   "source": [
    "model = get_model1()\n",
    "model = multi_gpu_model(model, gpus=nb_gpus)\n",
    "model.compile(optimizer=optimizers.rmsprop(lr=l_rate),\n",
    "              loss='mean_squared_error',\n",
    "              metrics=[metrics.mse])"
   ]
  },
  {
   "cell_type": "code",
   "execution_count": 217,
   "metadata": {},
   "outputs": [
    {
     "name": "stdout",
     "output_type": "stream",
     "text": [
      "Train on 2920 samples, validate on 365 samples\n",
      "Epoch 1/100\n",
      "2920/2920 [==============================] - 54s 19ms/step - loss: 6.8337 - mean_squared_error: 6.8337 - val_loss: 3.3851 - val_mean_squared_error: 3.3851\n",
      "Epoch 2/100\n",
      "2920/2920 [==============================] - 26s 9ms/step - loss: 3.3127 - mean_squared_error: 3.3127 - val_loss: 3.4754 - val_mean_squared_error: 3.4754\n",
      "Epoch 3/100\n",
      "2920/2920 [==============================] - 23s 8ms/step - loss: 3.2424 - mean_squared_error: 3.2424 - val_loss: 3.1614 - val_mean_squared_error: 3.1614\n",
      "Epoch 4/100\n",
      "2920/2920 [==============================] - 21s 7ms/step - loss: 3.2079 - mean_squared_error: 3.2079 - val_loss: 3.1150 - val_mean_squared_error: 3.1150\n",
      "Epoch 5/100\n",
      "2920/2920 [==============================] - 21s 7ms/step - loss: 3.1682 - mean_squared_error: 3.1682 - val_loss: 3.1883 - val_mean_squared_error: 3.1883\n",
      "Epoch 6/100\n",
      "2920/2920 [==============================] - 20s 7ms/step - loss: 2.9973 - mean_squared_error: 2.9973 - val_loss: 3.6724 - val_mean_squared_error: 3.6724\n",
      "Epoch 7/100\n",
      "2920/2920 [==============================] - 21s 7ms/step - loss: 3.1319 - mean_squared_error: 3.1319 - val_loss: 3.1352 - val_mean_squared_error: 3.1352\n",
      "Epoch 8/100\n",
      "2920/2920 [==============================] - 21s 7ms/step - loss: 3.0169 - mean_squared_error: 3.0169 - val_loss: 3.2622 - val_mean_squared_error: 3.2622\n",
      "Epoch 9/100\n",
      "2920/2920 [==============================] - 22s 8ms/step - loss: 3.0627 - mean_squared_error: 3.0627 - val_loss: 3.0234 - val_mean_squared_error: 3.0234\n",
      "Epoch 10/100\n",
      "2920/2920 [==============================] - 22s 7ms/step - loss: 2.8377 - mean_squared_error: 2.8377 - val_loss: 3.9595 - val_mean_squared_error: 3.9595\n",
      "Epoch 11/100\n",
      "2920/2920 [==============================] - 21s 7ms/step - loss: 3.0172 - mean_squared_error: 3.0172 - val_loss: 3.0323 - val_mean_squared_error: 3.0323\n",
      "Epoch 12/100\n",
      "2920/2920 [==============================] - 19s 7ms/step - loss: 2.8939 - mean_squared_error: 2.8939 - val_loss: 2.9735 - val_mean_squared_error: 2.9735\n",
      "Epoch 13/100\n",
      "2920/2920 [==============================] - 19s 7ms/step - loss: 2.9243 - mean_squared_error: 2.9243 - val_loss: 2.9327 - val_mean_squared_error: 2.9327\n",
      "Epoch 14/100\n",
      "2920/2920 [==============================] - 19s 7ms/step - loss: 2.9076 - mean_squared_error: 2.9076 - val_loss: 2.9073 - val_mean_squared_error: 2.9073\n",
      "Epoch 15/100\n",
      "2920/2920 [==============================] - 20s 7ms/step - loss: 2.8767 - mean_squared_error: 2.8767 - val_loss: 2.8810 - val_mean_squared_error: 2.8810\n",
      "Epoch 16/100\n",
      "2920/2920 [==============================] - 20s 7ms/step - loss: 2.8047 - mean_squared_error: 2.8047 - val_loss: 2.9885 - val_mean_squared_error: 2.9885\n",
      "Epoch 17/100\n",
      "2920/2920 [==============================] - 20s 7ms/step - loss: 2.7403 - mean_squared_error: 2.7403 - val_loss: 2.8910 - val_mean_squared_error: 2.8910\n",
      "Epoch 18/100\n",
      "2920/2920 [==============================] - 20s 7ms/step - loss: 2.8745 - mean_squared_error: 2.8745 - val_loss: 3.5525 - val_mean_squared_error: 3.5525\n",
      "Epoch 19/100\n",
      "2920/2920 [==============================] - 20s 7ms/step - loss: 2.6401 - mean_squared_error: 2.6401 - val_loss: 3.5270 - val_mean_squared_error: 3.5270\n",
      "Epoch 20/100\n",
      "2920/2920 [==============================] - 20s 7ms/step - loss: 2.7395 - mean_squared_error: 2.7395 - val_loss: 2.9333 - val_mean_squared_error: 2.9333\n",
      "Epoch 21/100\n",
      "2920/2920 [==============================] - 20s 7ms/step - loss: 2.6134 - mean_squared_error: 2.6134 - val_loss: 3.3512 - val_mean_squared_error: 3.3512\n",
      "Epoch 22/100\n",
      "2920/2920 [==============================] - 19s 7ms/step - loss: 2.7837 - mean_squared_error: 2.7837 - val_loss: 2.8033 - val_mean_squared_error: 2.8033\n",
      "Epoch 23/100\n",
      "2920/2920 [==============================] - 20s 7ms/step - loss: 2.6550 - mean_squared_error: 2.6550 - val_loss: 2.9004 - val_mean_squared_error: 2.9004\n",
      "Epoch 24/100\n",
      "2920/2920 [==============================] - 21s 7ms/step - loss: 2.6848 - mean_squared_error: 2.6848 - val_loss: 2.8834 - val_mean_squared_error: 2.8834\n",
      "Epoch 25/100\n",
      "2920/2920 [==============================] - 20s 7ms/step - loss: 2.4784 - mean_squared_error: 2.4784 - val_loss: 2.9822 - val_mean_squared_error: 2.9822\n",
      "Epoch 26/100\n",
      "2920/2920 [==============================] - 20s 7ms/step - loss: 2.6965 - mean_squared_error: 2.6965 - val_loss: 2.9307 - val_mean_squared_error: 2.9307\n",
      "Epoch 27/100\n",
      "2920/2920 [==============================] - 20s 7ms/step - loss: 2.4995 - mean_squared_error: 2.4995 - val_loss: 3.0597 - val_mean_squared_error: 3.0597\n",
      "Epoch 28/100\n",
      "2920/2920 [==============================] - 20s 7ms/step - loss: 2.6057 - mean_squared_error: 2.6057 - val_loss: 3.1951 - val_mean_squared_error: 3.1951\n",
      "Epoch 29/100\n",
      "2920/2920 [==============================] - 19s 7ms/step - loss: 2.4671 - mean_squared_error: 2.4671 - val_loss: 2.8121 - val_mean_squared_error: 2.8121\n",
      "Epoch 30/100\n",
      "2920/2920 [==============================] - 20s 7ms/step - loss: 2.5796 - mean_squared_error: 2.5796 - val_loss: 2.7882 - val_mean_squared_error: 2.7882\n",
      "Epoch 31/100\n",
      "2920/2920 [==============================] - 21s 7ms/step - loss: 2.5103 - mean_squared_error: 2.5103 - val_loss: 2.7519 - val_mean_squared_error: 2.7519\n",
      "Epoch 32/100\n",
      "2920/2920 [==============================] - 20s 7ms/step - loss: 2.4709 - mean_squared_error: 2.4709 - val_loss: 2.7635 - val_mean_squared_error: 2.7635\n",
      "Epoch 33/100\n",
      "2920/2920 [==============================] - 19s 7ms/step - loss: 2.5578 - mean_squared_error: 2.5578 - val_loss: 3.2367 - val_mean_squared_error: 3.2367\n",
      "Epoch 34/100\n",
      "2920/2920 [==============================] - 20s 7ms/step - loss: 2.4640 - mean_squared_error: 2.4640 - val_loss: 2.8022 - val_mean_squared_error: 2.8022\n",
      "Epoch 35/100\n",
      "2920/2920 [==============================] - 20s 7ms/step - loss: 2.4360 - mean_squared_error: 2.4360 - val_loss: 3.4390 - val_mean_squared_error: 3.4390\n",
      "Epoch 36/100\n",
      "2920/2920 [==============================] - 20s 7ms/step - loss: 2.3546 - mean_squared_error: 2.3546 - val_loss: 2.7663 - val_mean_squared_error: 2.7663\n",
      "Epoch 37/100\n",
      "2920/2920 [==============================] - 20s 7ms/step - loss: 2.4692 - mean_squared_error: 2.4692 - val_loss: 2.8236 - val_mean_squared_error: 2.8236\n",
      "Epoch 38/100\n",
      "2920/2920 [==============================] - 20s 7ms/step - loss: 2.4238 - mean_squared_error: 2.4238 - val_loss: 2.7359 - val_mean_squared_error: 2.7359\n",
      "Epoch 39/100\n",
      "2920/2920 [==============================] - 20s 7ms/step - loss: 2.2958 - mean_squared_error: 2.2958 - val_loss: 2.9932 - val_mean_squared_error: 2.9932\n",
      "Epoch 40/100\n",
      "2920/2920 [==============================] - 20s 7ms/step - loss: 2.2445 - mean_squared_error: 2.2445 - val_loss: 3.9752 - val_mean_squared_error: 3.9752\n",
      "Epoch 41/100\n",
      "2920/2920 [==============================] - 21s 7ms/step - loss: 2.3772 - mean_squared_error: 2.3772 - val_loss: 3.0259 - val_mean_squared_error: 3.0259\n",
      "Epoch 42/100\n",
      "2920/2920 [==============================] - 20s 7ms/step - loss: 2.3994 - mean_squared_error: 2.3994 - val_loss: 3.2747 - val_mean_squared_error: 3.2747\n",
      "Epoch 43/100\n",
      "2920/2920 [==============================] - 20s 7ms/step - loss: 2.3092 - mean_squared_error: 2.3092 - val_loss: 3.1386 - val_mean_squared_error: 3.1386\n",
      "Epoch 44/100\n",
      "2920/2920 [==============================] - 20s 7ms/step - loss: 2.3129 - mean_squared_error: 2.3129 - val_loss: 2.7098 - val_mean_squared_error: 2.7098\n",
      "Epoch 45/100\n",
      "2920/2920 [==============================] - 20s 7ms/step - loss: 2.1269 - mean_squared_error: 2.1269 - val_loss: 3.5796 - val_mean_squared_error: 3.5796\n",
      "Epoch 46/100\n",
      "2920/2920 [==============================] - 20s 7ms/step - loss: 2.3661 - mean_squared_error: 2.3661 - val_loss: 2.7574 - val_mean_squared_error: 2.7574\n",
      "Epoch 47/100\n",
      "2920/2920 [==============================] - 20s 7ms/step - loss: 2.2588 - mean_squared_error: 2.2588 - val_loss: 2.7665 - val_mean_squared_error: 2.7665\n",
      "Epoch 48/100\n",
      "2920/2920 [==============================] - 20s 7ms/step - loss: 2.2387 - mean_squared_error: 2.2387 - val_loss: 2.6994 - val_mean_squared_error: 2.6994\n",
      "Epoch 49/100\n",
      "2920/2920 [==============================] - 20s 7ms/step - loss: 2.2692 - mean_squared_error: 2.2692 - val_loss: 2.6808 - val_mean_squared_error: 2.6808\n"
     ]
    },
    {
     "name": "stdout",
     "output_type": "stream",
     "text": [
      "Epoch 50/100\n",
      "2920/2920 [==============================] - 20s 7ms/step - loss: 2.1740 - mean_squared_error: 2.1740 - val_loss: 2.6889 - val_mean_squared_error: 2.6889\n",
      "Epoch 51/100\n",
      "2920/2920 [==============================] - 20s 7ms/step - loss: 2.1127 - mean_squared_error: 2.1127 - val_loss: 3.1597 - val_mean_squared_error: 3.1597\n",
      "Epoch 52/100\n",
      "2920/2920 [==============================] - 20s 7ms/step - loss: 2.1303 - mean_squared_error: 2.1303 - val_loss: 2.9591 - val_mean_squared_error: 2.9591\n",
      "Epoch 53/100\n",
      "2920/2920 [==============================] - 19s 7ms/step - loss: 2.1910 - mean_squared_error: 2.1910 - val_loss: 3.6251 - val_mean_squared_error: 3.6251\n",
      "Epoch 54/100\n",
      "2920/2920 [==============================] - 20s 7ms/step - loss: 2.2463 - mean_squared_error: 2.2463 - val_loss: 2.7256 - val_mean_squared_error: 2.7256\n",
      "Epoch 55/100\n",
      "2920/2920 [==============================] - 21s 7ms/step - loss: 1.9846 - mean_squared_error: 1.9846 - val_loss: 2.7087 - val_mean_squared_error: 2.7087\n",
      "Epoch 56/100\n",
      "2920/2920 [==============================] - 19s 7ms/step - loss: 2.1882 - mean_squared_error: 2.1882 - val_loss: 3.1203 - val_mean_squared_error: 3.1203\n",
      "Epoch 57/100\n",
      "2920/2920 [==============================] - 19s 7ms/step - loss: 2.0057 - mean_squared_error: 2.0057 - val_loss: 2.7172 - val_mean_squared_error: 2.7172\n",
      "Epoch 58/100\n",
      "2920/2920 [==============================] - 20s 7ms/step - loss: 2.1731 - mean_squared_error: 2.1731 - val_loss: 2.7181 - val_mean_squared_error: 2.7181\n",
      "Epoch 59/100\n",
      "2920/2920 [==============================] - 20s 7ms/step - loss: 2.0638 - mean_squared_error: 2.0638 - val_loss: 2.9195 - val_mean_squared_error: 2.9195\n",
      "Epoch 60/100\n",
      "2920/2920 [==============================] - 20s 7ms/step - loss: 2.0513 - mean_squared_error: 2.0513 - val_loss: 3.2974 - val_mean_squared_error: 3.2974\n",
      "Epoch 61/100\n",
      "2920/2920 [==============================] - 20s 7ms/step - loss: 2.0555 - mean_squared_error: 2.0555 - val_loss: 2.6642 - val_mean_squared_error: 2.6642\n",
      "Epoch 62/100\n",
      "2920/2920 [==============================] - 19s 6ms/step - loss: 2.0826 - mean_squared_error: 2.0826 - val_loss: 2.7539 - val_mean_squared_error: 2.7539\n",
      "Epoch 63/100\n",
      "2920/2920 [==============================] - 19s 6ms/step - loss: 2.0028 - mean_squared_error: 2.0028 - val_loss: 2.6564 - val_mean_squared_error: 2.6564\n",
      "Epoch 64/100\n",
      "2920/2920 [==============================] - 21s 7ms/step - loss: 2.0449 - mean_squared_error: 2.0449 - val_loss: 2.6485 - val_mean_squared_error: 2.6485\n",
      "Epoch 65/100\n",
      "2920/2920 [==============================] - 19s 7ms/step - loss: 1.9465 - mean_squared_error: 1.9465 - val_loss: 2.7255 - val_mean_squared_error: 2.7255\n",
      "Epoch 66/100\n",
      "2920/2920 [==============================] - 21s 7ms/step - loss: 1.9889 - mean_squared_error: 1.9889 - val_loss: 2.6995 - val_mean_squared_error: 2.6995\n",
      "Epoch 67/100\n",
      "2920/2920 [==============================] - 23s 8ms/step - loss: 2.0443 - mean_squared_error: 2.0443 - val_loss: 2.6703 - val_mean_squared_error: 2.6703\n",
      "Epoch 68/100\n",
      "2920/2920 [==============================] - 22s 7ms/step - loss: 1.9339 - mean_squared_error: 1.9339 - val_loss: 2.8829 - val_mean_squared_error: 2.8829\n",
      "Epoch 69/100\n",
      "2920/2920 [==============================] - 21s 7ms/step - loss: 1.8305 - mean_squared_error: 1.8305 - val_loss: 3.1584 - val_mean_squared_error: 3.1584\n",
      "Epoch 70/100\n",
      "2920/2920 [==============================] - 20s 7ms/step - loss: 1.8767 - mean_squared_error: 1.8767 - val_loss: 3.3010 - val_mean_squared_error: 3.3010\n",
      "Epoch 71/100\n",
      "2920/2920 [==============================] - 21s 7ms/step - loss: 1.9637 - mean_squared_error: 1.9637 - val_loss: 3.0417 - val_mean_squared_error: 3.0417\n",
      "Epoch 72/100\n",
      "2920/2920 [==============================] - 20s 7ms/step - loss: 1.9435 - mean_squared_error: 1.9435 - val_loss: 2.8450 - val_mean_squared_error: 2.8450\n",
      "Epoch 73/100\n",
      "2920/2920 [==============================] - 19s 7ms/step - loss: 1.9034 - mean_squared_error: 1.9034 - val_loss: 2.7906 - val_mean_squared_error: 2.7906\n",
      "Epoch 74/100\n",
      "2920/2920 [==============================] - 20s 7ms/step - loss: 1.9205 - mean_squared_error: 1.9205 - val_loss: 2.7035 - val_mean_squared_error: 2.7035\n",
      "Epoch 75/100\n",
      "2920/2920 [==============================] - 20s 7ms/step - loss: 1.7555 - mean_squared_error: 1.7555 - val_loss: 3.2945 - val_mean_squared_error: 3.2945\n",
      "Epoch 76/100\n",
      "2920/2920 [==============================] - 20s 7ms/step - loss: 1.7644 - mean_squared_error: 1.7644 - val_loss: 3.3477 - val_mean_squared_error: 3.3477\n",
      "Epoch 77/100\n",
      "2920/2920 [==============================] - 20s 7ms/step - loss: 1.8795 - mean_squared_error: 1.8795 - val_loss: 2.9653 - val_mean_squared_error: 2.9653\n",
      "Epoch 78/100\n",
      "2920/2920 [==============================] - 20s 7ms/step - loss: 1.8008 - mean_squared_error: 1.8008 - val_loss: 4.1873 - val_mean_squared_error: 4.1873\n",
      "Epoch 79/100\n",
      "2920/2920 [==============================] - 20s 7ms/step - loss: 1.9315 - mean_squared_error: 1.9315 - val_loss: 3.1302 - val_mean_squared_error: 3.1302\n",
      "Epoch 80/100\n",
      "2920/2920 [==============================] - 20s 7ms/step - loss: 1.8029 - mean_squared_error: 1.8029 - val_loss: 2.7014 - val_mean_squared_error: 2.7014\n",
      "Epoch 81/100\n",
      "2920/2920 [==============================] - 21s 7ms/step - loss: 1.8972 - mean_squared_error: 1.8972 - val_loss: 2.7919 - val_mean_squared_error: 2.7919\n",
      "Epoch 82/100\n",
      "2920/2920 [==============================] - 21s 7ms/step - loss: 1.7572 - mean_squared_error: 1.7572 - val_loss: 2.6410 - val_mean_squared_error: 2.6410\n",
      "Epoch 83/100\n",
      "2920/2920 [==============================] - 20s 7ms/step - loss: 1.5802 - mean_squared_error: 1.5802 - val_loss: 3.3286 - val_mean_squared_error: 3.3286\n",
      "Epoch 84/100\n",
      "2920/2920 [==============================] - 20s 7ms/step - loss: 1.7751 - mean_squared_error: 1.7751 - val_loss: 2.7982 - val_mean_squared_error: 2.7982\n",
      "Epoch 85/100\n",
      "2920/2920 [==============================] - 20s 7ms/step - loss: 1.8619 - mean_squared_error: 1.8619 - val_loss: 2.6186 - val_mean_squared_error: 2.6186\n",
      "Epoch 86/100\n",
      "2920/2920 [==============================] - 20s 7ms/step - loss: 1.7506 - mean_squared_error: 1.7506 - val_loss: 2.6106 - val_mean_squared_error: 2.6106\n",
      "Epoch 87/100\n",
      "2920/2920 [==============================] - 20s 7ms/step - loss: 1.6359 - mean_squared_error: 1.6359 - val_loss: 2.7132 - val_mean_squared_error: 2.7132\n",
      "Epoch 88/100\n",
      "2920/2920 [==============================] - 20s 7ms/step - loss: 1.8090 - mean_squared_error: 1.8090 - val_loss: 2.6208 - val_mean_squared_error: 2.6208\n",
      "Epoch 89/100\n",
      "2920/2920 [==============================] - 20s 7ms/step - loss: 1.6026 - mean_squared_error: 1.6026 - val_loss: 2.6440 - val_mean_squared_error: 2.6440\n",
      "Epoch 90/100\n",
      "2920/2920 [==============================] - 21s 7ms/step - loss: 1.7941 - mean_squared_error: 1.7941 - val_loss: 2.6028 - val_mean_squared_error: 2.6028\n",
      "Epoch 91/100\n",
      "2920/2920 [==============================] - 20s 7ms/step - loss: 1.6401 - mean_squared_error: 1.6401 - val_loss: 3.2739 - val_mean_squared_error: 3.2739\n",
      "Epoch 92/100\n",
      "2920/2920 [==============================] - 20s 7ms/step - loss: 1.6933 - mean_squared_error: 1.6933 - val_loss: 2.7533 - val_mean_squared_error: 2.7533\n",
      "Epoch 93/100\n",
      "2920/2920 [==============================] - 19s 7ms/step - loss: 1.5820 - mean_squared_error: 1.5820 - val_loss: 2.6007 - val_mean_squared_error: 2.6007\n",
      "Epoch 94/100\n",
      "2920/2920 [==============================] - 20s 7ms/step - loss: 1.6450 - mean_squared_error: 1.6450 - val_loss: 2.7109 - val_mean_squared_error: 2.7109\n",
      "Epoch 95/100\n",
      "2920/2920 [==============================] - 20s 7ms/step - loss: 1.6631 - mean_squared_error: 1.6631 - val_loss: 2.6737 - val_mean_squared_error: 2.6737\n",
      "Epoch 96/100\n",
      "2920/2920 [==============================] - 21s 7ms/step - loss: 1.6306 - mean_squared_error: 1.6306 - val_loss: 2.7238 - val_mean_squared_error: 2.7238\n",
      "Epoch 97/100\n",
      "2920/2920 [==============================] - 21s 7ms/step - loss: 1.5801 - mean_squared_error: 1.5801 - val_loss: 2.8146 - val_mean_squared_error: 2.8146\n",
      "Epoch 98/100\n",
      "2920/2920 [==============================] - 20s 7ms/step - loss: 1.6698 - mean_squared_error: 1.6698 - val_loss: 2.9303 - val_mean_squared_error: 2.9303\n",
      "Epoch 99/100\n"
     ]
    },
    {
     "name": "stdout",
     "output_type": "stream",
     "text": [
      "2920/2920 [==============================] - 20s 7ms/step - loss: 1.4385 - mean_squared_error: 1.4385 - val_loss: 2.7756 - val_mean_squared_error: 2.7756\n",
      "Epoch 100/100\n",
      "2920/2920 [==============================] - 21s 7ms/step - loss: 1.5920 - mean_squared_error: 1.5920 - val_loss: 2.5969 - val_mean_squared_error: 2.5969\n"
     ]
    }
   ],
   "source": [
    "history1 = model.fit(train_x, train_y, \n",
    "                    validation_data=(valid_x, valid_y),\n",
    "                    epochs=nb_epochs,\n",
    "                    batch_size=nb_batch,\n",
    "                    verbose=1)"
   ]
  },
  {
   "cell_type": "code",
   "execution_count": 218,
   "metadata": {},
   "outputs": [
    {
     "data": {
      "text/plain": [
       "dict_keys(['val_loss', 'val_mean_squared_error', 'loss', 'mean_squared_error'])"
      ]
     },
     "execution_count": 218,
     "metadata": {},
     "output_type": "execute_result"
    }
   ],
   "source": [
    "history1.history.keys()"
   ]
  },
  {
   "cell_type": "code",
   "execution_count": 219,
   "metadata": {},
   "outputs": [
    {
     "data": {
      "image/png": "[encoded data removed]",
      "text/plain": [
       "<matplotlib.figure.Figure at 0x7f87a4eb5828>"
      ]
     },
     "metadata": {},
     "output_type": "display_data"
    }
   ],
   "source": [
    "plt.figure()\n",
    "plt.plot(history1.history['loss'])\n",
    "plt.plot(history1.history['val_loss'])\n",
    "plt.xlabel(\"Epochs\")\n",
    "plt.ylabel(\"MSE\")\n",
    "plt.legend([\"Training\", \"Validation\"])\n",
    "plt.show()"
   ]
  },
  {
   "cell_type": "code",
   "execution_count": 220,
   "metadata": {},
   "outputs": [
    {
     "name": "stdout",
     "output_type": "stream",
     "text": [
      "Train R2: 0.669 , Test R2: 0.253, Valid R2: 0.355\n"
     ]
    }
   ],
   "source": [
    "train_r2 = r2_score(y_pred=model.predict(train_x), y_true=train_y)\n",
    "test_r2 = r2_score(y_pred=model.predict(test_x), y_true=test_y)\n",
    "valid_r2 = r2_score(y_pred=model.predict(valid_x), y_true=valid_y)\n",
    "print(\"Train R2: %0.3f , Test R2: %0.3f, Valid R2: %0.3f\" % (train_r2, test_r2, valid_r2))"
   ]
  },
  {
   "cell_type": "markdown",
   "metadata": {},
   "source": [
    "## Result\n",
    "\n",
    "#### With voxel size = 1 \n",
    "Train R2: 0.511 , Test R2: 0.221, Valid R2: 0.306\n",
    "\n",
    "#### With voxel size = 2\n",
    "Train R2: 0.489 , Test R2: 0.221, Valid R2: 0.296\n",
    "\n",
    "#### With voxel size = 3\n",
    "Train R2: 0.474 , Test R2: 0.235, Valid R2: 0.286\n",
    "\n",
    "#### With voxel size = 1 (8 neighbors)\n",
    "Train R2: 0.669 , Test R2: 0.253, Valid R2: 0.355\n",
    "\n",
    "#### With voxel size = 2 (8 neighbors)\n",
    "Train R2: 0.487 , Test R2: 0.238, Valid R2: 0.329\n",
    "\n",
    "#### With voxel size = 3 (8 neighbors)\n",
    "Train R2: 0.326 , Test R2: 0.133, Valid R2: 0.193"
   ]
  },
  {
   "cell_type": "code",
   "execution_count": null,
   "metadata": {},
   "outputs": [],
   "source": []
  }
 ],
 "metadata": {
  "kernelspec": {
   "display_name": "Python 3",
   "language": "python",
   "name": "python3"
  },
  "language_info": {
   "codemirror_mode": {
    "name": "ipython",
    "version": 3
   },
   "file_extension": ".py",
   "mimetype": "text/x-python",
   "name": "python",
   "nbconvert_exporter": "python",
   "pygments_lexer": "ipython3",
   "version": "3.6.4"
  }
 },
 "nbformat": 4,
 "nbformat_minor": 2
}
